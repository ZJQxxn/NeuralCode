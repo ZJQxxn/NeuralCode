{
 "cells": [
  {
   "cell_type": "code",
   "execution_count": 1,
   "metadata": {},
   "outputs": [
    {
     "data": {
      "application/javascript": [
       "\n",
       "            setTimeout(function() {\n",
       "                var nbb_cell_id = 1;\n",
       "                var nbb_unformatted_code = \"%matplotlib inline\\n%load_ext nb_black\\nimport pandas as pd\\nimport numpy as np\\nimport matplotlib.pyplot as plt\\nimport pickle\\nfrom pdb import set_trace\\n\\nfrom sklearn.linear_model import LinearRegression\\n\\nwith open(\\\"xieyang_neurondata.pkl\\\", \\\"rb\\\") as f:\\n    pkl = pickle.load(f)\\n\\ndf = pd.read_csv(\\\"xieyang_behaviordata.csv\\\")\";\n",
       "                var nbb_formatted_code = \"%matplotlib inline\\n%load_ext nb_black\\nimport pandas as pd\\nimport numpy as np\\nimport matplotlib.pyplot as plt\\nimport pickle\\nfrom pdb import set_trace\\n\\nfrom sklearn.linear_model import LinearRegression\\n\\nwith open(\\\"xieyang_neurondata.pkl\\\", \\\"rb\\\") as f:\\n    pkl = pickle.load(f)\\n\\ndf = pd.read_csv(\\\"xieyang_behaviordata.csv\\\")\";\n",
       "                var nbb_cells = Jupyter.notebook.get_cells();\n",
       "                for (var i = 0; i < nbb_cells.length; ++i) {\n",
       "                    if (nbb_cells[i].input_prompt_number == nbb_cell_id) {\n",
       "                        if (nbb_cells[i].get_text() == nbb_unformatted_code) {\n",
       "                             nbb_cells[i].set_text(nbb_formatted_code);\n",
       "                        }\n",
       "                        break;\n",
       "                    }\n",
       "                }\n",
       "            }, 500);\n",
       "            "
      ],
      "text/plain": [
       "<IPython.core.display.Javascript object>"
      ]
     },
     "metadata": {},
     "output_type": "display_data"
    }
   ],
   "source": [
    "%matplotlib inline\n",
    "%load_ext nb_black\n",
    "import pandas as pd\n",
    "import numpy as np\n",
    "import matplotlib.pyplot as plt\n",
    "import pickle\n",
    "from pdb import set_trace\n",
    "\n",
    "from sklearn.linear_model import LinearRegression\n",
    "from sklearn.decomposition import PCA\n",
    "\n",
    "\n",
    "with open(\"xieyang_neurondata.pkl\", \"rb\") as f:\n",
    "    pkl = pickle.load(f)\n",
    "\n",
    "df = pd.read_csv(\"xieyang_behaviordata.csv\")"
   ]
  },
  {
   "cell_type": "markdown",
   "metadata": {},
   "source": [
    "#### CPD"
   ]
  },
  {
   "cell_type": "code",
   "execution_count": 6,
   "metadata": {},
   "outputs": [
    {
     "data": {
      "application/javascript": [
       "\n",
       "            setTimeout(function() {\n",
       "                var nbb_cell_id = 6;\n",
       "                var nbb_unformatted_code = \"def _CPD(X, y):  # \\u8fd9\\u91cc\\u7684X\\u7684shape\\u662f273*6\\uff0cy\\u7684shape\\u662f273*1800\\n    \\\"\\\"\\\"Evaluate coefficient of partial determination for each predictor in X\\\"\\\"\\\"\\n    ols = LinearRegression()  # \\u5efa\\u7acb\\u4e00\\u4e2alinear regression\\u7684\\u62df\\u5408object\\n    #     set_trace()\\n    ols.fit(X, y)  # \\u62df\\u5408X\\u548cy\\n    sse = np.sum(\\n        (ols.predict(X) - y) ** 2, axis=0\\n    )  # \\u7528X\\u9884\\u6d4by\\uff0c\\u7136\\u540e\\u548c\\u771f\\u5b9e\\u7684y\\u505a\\u6b8b\\u5dee\\u5e73\\u65b9\\u548c\\uff0csse\\u7684shape\\u662f1800*1\\n    cpd = np.zeros([y.shape[1], X.shape[1]])  # \\u5efa\\u7acb\\u4e00\\u4e2a\\u7a7a\\u7684matrix\\uff0c\\u7b49\\u7b49\\u8981\\u5b58\\u50a8\\u7ed3\\u679c\\uff0cshape\\u662f1800*6\\n    for i in range(X.shape[1]):  # i\\u7684loop\\u4ece0-5\\uff0c\\u4e00\\u51716\\u4e2a\\u6570\\n        X_i = np.delete(X, i, axis=1)  # \\u8fd9\\u91ccX_i\\u8868\\u793a\\\"X\\u8fd9\\u4e2a\\u77e9\\u9635\\u53bb\\u6389\\u7b2ci\\u5217\\\",\\u6240\\u4ee5X_i\\u7684shape\\u6c38\\u8fdc\\u662f273*5\\n        ols.fit(X_i, y)  # \\u7528\\u53bb\\u6389\\u4e00\\u5217\\u7684X_i\\u548cy\\u8fdb\\u884c\\u62df\\u5408\\n        sse_X_i = np.sum(\\n            (ols.predict(X_i) - y) ** 2, axis=0\\n        )  # \\u7528X_i\\u9884\\u6d4by\\uff0c\\u7136\\u540e\\u548c\\u771f\\u5b9e\\u7684y\\u505a\\u6b8b\\u5dee\\u5e73\\u65b9\\u548c\\uff0csse_X_i\\u7684shape\\u662f1800*1\\n        cpd[:, i] = (\\n            sse_X_i - sse\\n        ) / sse_X_i  # \\u7b97\\u4e24\\u79cd\\u6b8b\\u5dee\\u7684\\u5dee\\u5f02\\uff0c\\u7528\\u6bd4\\u4f8b\\u7684\\u65b9\\u5f0f\\u8868\\u8fbe\\uff0c\\u540c\\u65f6\\u628a\\u7ed3\\u679c\\u5b58\\u50a8\\u5230cpd\\u8fd9\\u4e2amatrix\\u91cc\\u9762\\uff08\\u653e\\u5230\\u7b2ci\\u5217\\u91cc\\u9762\\uff09\\n    return cpd\";\n",
       "                var nbb_formatted_code = \"def _CPD(X, y):  # \\u8fd9\\u91cc\\u7684X\\u7684shape\\u662f273*6\\uff0cy\\u7684shape\\u662f273*1800\\n    \\\"\\\"\\\"Evaluate coefficient of partial determination for each predictor in X\\\"\\\"\\\"\\n    ols = LinearRegression()  # \\u5efa\\u7acb\\u4e00\\u4e2alinear regression\\u7684\\u62df\\u5408object\\n    #     set_trace()\\n    ols.fit(X, y)  # \\u62df\\u5408X\\u548cy\\n    sse = np.sum(\\n        (ols.predict(X) - y) ** 2, axis=0\\n    )  # \\u7528X\\u9884\\u6d4by\\uff0c\\u7136\\u540e\\u548c\\u771f\\u5b9e\\u7684y\\u505a\\u6b8b\\u5dee\\u5e73\\u65b9\\u548c\\uff0csse\\u7684shape\\u662f1800*1\\n    cpd = np.zeros([y.shape[1], X.shape[1]])  # \\u5efa\\u7acb\\u4e00\\u4e2a\\u7a7a\\u7684matrix\\uff0c\\u7b49\\u7b49\\u8981\\u5b58\\u50a8\\u7ed3\\u679c\\uff0cshape\\u662f1800*6\\n    for i in range(X.shape[1]):  # i\\u7684loop\\u4ece0-5\\uff0c\\u4e00\\u51716\\u4e2a\\u6570\\n        X_i = np.delete(X, i, axis=1)  # \\u8fd9\\u91ccX_i\\u8868\\u793a\\\"X\\u8fd9\\u4e2a\\u77e9\\u9635\\u53bb\\u6389\\u7b2ci\\u5217\\\",\\u6240\\u4ee5X_i\\u7684shape\\u6c38\\u8fdc\\u662f273*5\\n        ols.fit(X_i, y)  # \\u7528\\u53bb\\u6389\\u4e00\\u5217\\u7684X_i\\u548cy\\u8fdb\\u884c\\u62df\\u5408\\n        sse_X_i = np.sum(\\n            (ols.predict(X_i) - y) ** 2, axis=0\\n        )  # \\u7528X_i\\u9884\\u6d4by\\uff0c\\u7136\\u540e\\u548c\\u771f\\u5b9e\\u7684y\\u505a\\u6b8b\\u5dee\\u5e73\\u65b9\\u548c\\uff0csse_X_i\\u7684shape\\u662f1800*1\\n        cpd[:, i] = (\\n            sse_X_i - sse\\n        ) / sse_X_i  # \\u7b97\\u4e24\\u79cd\\u6b8b\\u5dee\\u7684\\u5dee\\u5f02\\uff0c\\u7528\\u6bd4\\u4f8b\\u7684\\u65b9\\u5f0f\\u8868\\u8fbe\\uff0c\\u540c\\u65f6\\u628a\\u7ed3\\u679c\\u5b58\\u50a8\\u5230cpd\\u8fd9\\u4e2amatrix\\u91cc\\u9762\\uff08\\u653e\\u5230\\u7b2ci\\u5217\\u91cc\\u9762\\uff09\\n    return cpd\";\n",
       "                var nbb_cells = Jupyter.notebook.get_cells();\n",
       "                for (var i = 0; i < nbb_cells.length; ++i) {\n",
       "                    if (nbb_cells[i].input_prompt_number == nbb_cell_id) {\n",
       "                        if (nbb_cells[i].get_text() == nbb_unformatted_code) {\n",
       "                             nbb_cells[i].set_text(nbb_formatted_code);\n",
       "                        }\n",
       "                        break;\n",
       "                    }\n",
       "                }\n",
       "            }, 500);\n",
       "            "
      ],
      "text/plain": [
       "<IPython.core.display.Javascript object>"
      ]
     },
     "metadata": {},
     "output_type": "display_data"
    }
   ],
   "source": [
    "def _CPD(X, y):  # 这里的X的shape是273*6，y的shape是273*1800\n",
    "    \"\"\"Evaluate coefficient of partial determination for each predictor in X\"\"\"\n",
    "    ols = LinearRegression()  # 建立一个linear regression的拟合object\n",
    "    #     set_trace()\n",
    "    ols.fit(X, y)  # 拟合X和y\n",
    "    sse = np.sum(\n",
    "        (ols.predict(X) - y) ** 2, axis=0\n",
    "    )  # 用X预测y，然后和真实的y做残差平方和，sse的shape是1800*1\n",
    "    cpd = np.zeros([y.shape[1], X.shape[1]])  # 建立一个空的matrix，等等要存储结果，shape是1800*6\n",
    "    for i in range(X.shape[1]):  # i的loop从0-5，一共6个数\n",
    "        X_i = np.delete(X, i, axis=1)  # 这里X_i表示\"X这个矩阵去掉第i列\",所以X_i的shape永远是273*5\n",
    "        ols.fit(X_i, y)  # 用去掉一列的X_i和y进行拟合\n",
    "        sse_X_i = np.sum(\n",
    "            (ols.predict(X_i) - y) ** 2, axis=0\n",
    "        )  # 用X_i预测y，然后和真实的y做残差平方和，sse_X_i的shape是1800*1\n",
    "        cpd[:, i] = (\n",
    "            sse_X_i - sse\n",
    "        ) / sse_X_i  # 算两种残差的差异，用比例的方式表达，同时把结果存储到cpd这个matrix里面（放到第i列里面）\n",
    "    return cpd"
   ]
  },
  {
   "cell_type": "code",
   "execution_count": 7,
   "metadata": {},
   "outputs": [
    {
     "data": {
      "application/javascript": [
       "\n",
       "            setTimeout(function() {\n",
       "                var nbb_cell_id = 7;\n",
       "                var nbb_unformatted_code = \"cpd1_all = {}\\ncpd2_all = {}\\nfor i in pkl:\\n    file_name, indexes = i[\\\"file\\\"], i[\\\"trial_selected\\\"]\\n    indexes = indexes[0].astype(int) - 1  # matlab index to python index\\n    X = (\\n        df[\\n            df.file.apply(lambda x: \\\"_\\\".join(x.split(\\\"_\\\")[:2]))\\n            == \\\"_\\\".join(file_name.split(\\\"_\\\")[:2])\\n        ]\\n        .iloc[indexes, :][[\\\"rwd_fed\\\", \\\"c_cue\\\"]]\\n        .rename(columns={\\\"rwd_fed\\\": \\\"reward\\\", \\\"c_cue\\\": \\\"choice\\\"})\\n        .replace({-1: 0})\\n    )\\n    X[\\\"reward_choice\\\"] = X[\\\"reward\\\"] * X[\\\"choice\\\"]\\n    cpd1_session = []\\n    cpd2_session = []\\n    for n in range(i[\\\"Fd1\\\"].shape[-1]):\\n        if i[\\\"Fd1\\\"].shape[0] != X.shape[0]:\\n            y_Fd1 = i[\\\"Fd1\\\"][indexes][:, :, n]\\n        else:\\n            y_Fd1 = i[\\\"Fd1\\\"][:, :, n]\\n        if i[\\\"Fd2\\\"].shape[0] != X.shape[0]:\\n            y_Fd2 = i[\\\"Fd2\\\"][indexes][:, :, n]\\n        else:\\n            y_Fd2 = i[\\\"Fd2\\\"][:, :, n]\\n        cpd1_session.append(_CPD(X.values, y_Fd1))\\n        cpd2_session.append(_CPD(X.values, y_Fd2))\\n    cpd1_all[file_name] = np.array(cpd1_session)\\n    cpd2_all[file_name] = np.array(cpd2_session)\";\n",
       "                var nbb_formatted_code = \"cpd1_all = {}\\ncpd2_all = {}\\nfor i in pkl:\\n    file_name, indexes = i[\\\"file\\\"], i[\\\"trial_selected\\\"]\\n    indexes = indexes[0].astype(int) - 1  # matlab index to python index\\n    X = (\\n        df[\\n            df.file.apply(lambda x: \\\"_\\\".join(x.split(\\\"_\\\")[:2]))\\n            == \\\"_\\\".join(file_name.split(\\\"_\\\")[:2])\\n        ]\\n        .iloc[indexes, :][[\\\"rwd_fed\\\", \\\"c_cue\\\"]]\\n        .rename(columns={\\\"rwd_fed\\\": \\\"reward\\\", \\\"c_cue\\\": \\\"choice\\\"})\\n        .replace({-1: 0})\\n    )\\n    X[\\\"reward_choice\\\"] = X[\\\"reward\\\"] * X[\\\"choice\\\"]\\n    cpd1_session = []\\n    cpd2_session = []\\n    for n in range(i[\\\"Fd1\\\"].shape[-1]):\\n        if i[\\\"Fd1\\\"].shape[0] != X.shape[0]:\\n            y_Fd1 = i[\\\"Fd1\\\"][indexes][:, :, n]\\n        else:\\n            y_Fd1 = i[\\\"Fd1\\\"][:, :, n]\\n        if i[\\\"Fd2\\\"].shape[0] != X.shape[0]:\\n            y_Fd2 = i[\\\"Fd2\\\"][indexes][:, :, n]\\n        else:\\n            y_Fd2 = i[\\\"Fd2\\\"][:, :, n]\\n        cpd1_session.append(_CPD(X.values, y_Fd1))\\n        cpd2_session.append(_CPD(X.values, y_Fd2))\\n    cpd1_all[file_name] = np.array(cpd1_session)\\n    cpd2_all[file_name] = np.array(cpd2_session)\";\n",
       "                var nbb_cells = Jupyter.notebook.get_cells();\n",
       "                for (var i = 0; i < nbb_cells.length; ++i) {\n",
       "                    if (nbb_cells[i].input_prompt_number == nbb_cell_id) {\n",
       "                        if (nbb_cells[i].get_text() == nbb_unformatted_code) {\n",
       "                             nbb_cells[i].set_text(nbb_formatted_code);\n",
       "                        }\n",
       "                        break;\n",
       "                    }\n",
       "                }\n",
       "            }, 500);\n",
       "            "
      ],
      "text/plain": [
       "<IPython.core.display.Javascript object>"
      ]
     },
     "metadata": {},
     "output_type": "display_data"
    }
   ],
   "source": [
    "cpd1_all = {}\n",
    "cpd2_all = {}\n",
    "for i in pkl:\n",
    "    file_name, indexes = i[\"file\"], i[\"trial_selected\"]\n",
    "    indexes = indexes[0].astype(int) - 1  # matlab index to python index\n",
    "    X = (\n",
    "        df[\n",
    "            df.file.apply(lambda x: \"_\".join(x.split(\"_\")[:2]))\n",
    "            == \"_\".join(file_name.split(\"_\")[:2])\n",
    "        ]\n",
    "        .iloc[indexes, :][[\"rwd_fed\", \"c_cue\"]]\n",
    "        .rename(columns={\"rwd_fed\": \"reward\", \"c_cue\": \"choice\"})\n",
    "        .replace({-1: 0})\n",
    "    )\n",
    "    X[\"reward_choice\"] = X[\"reward\"] * X[\"choice\"]\n",
    "    cpd1_session = []\n",
    "    cpd2_session = []\n",
    "    for n in range(i[\"Fd1\"].shape[-1]):\n",
    "        if i[\"Fd1\"].shape[0] != X.shape[0]:\n",
    "            y_Fd1 = i[\"Fd1\"][indexes][:, :, n]\n",
    "        else:\n",
    "            y_Fd1 = i[\"Fd1\"][:, :, n]\n",
    "        if i[\"Fd2\"].shape[0] != X.shape[0]:\n",
    "            y_Fd2 = i[\"Fd2\"][indexes][:, :, n]\n",
    "        else:\n",
    "            y_Fd2 = i[\"Fd2\"][:, :, n]\n",
    "        cpd1_session.append(_CPD(X.values, y_Fd1))\n",
    "        cpd2_session.append(_CPD(X.values, y_Fd2))\n",
    "    cpd1_all[file_name] = np.array(cpd1_session)\n",
    "    cpd2_all[file_name] = np.array(cpd2_session)"
   ]
  },
  {
   "cell_type": "code",
   "execution_count": 8,
   "metadata": {},
   "outputs": [
    {
     "data": {
      "application/javascript": [
       "\n",
       "            setTimeout(function() {\n",
       "                var nbb_cell_id = 8;\n",
       "                var nbb_unformatted_code = \"cpd1 = list(cpd1_all.values())\\ncpd1 = np.nanmean(np.concatenate(cpd1, 0), axis=0)\\n\\ncpd2 = list(cpd2_all.values())\\ncpd2 = np.nanmean(np.concatenate(cpd2, 0), axis=0)\";\n",
       "                var nbb_formatted_code = \"cpd1 = list(cpd1_all.values())\\ncpd1 = np.nanmean(np.concatenate(cpd1, 0), axis=0)\\n\\ncpd2 = list(cpd2_all.values())\\ncpd2 = np.nanmean(np.concatenate(cpd2, 0), axis=0)\";\n",
       "                var nbb_cells = Jupyter.notebook.get_cells();\n",
       "                for (var i = 0; i < nbb_cells.length; ++i) {\n",
       "                    if (nbb_cells[i].input_prompt_number == nbb_cell_id) {\n",
       "                        if (nbb_cells[i].get_text() == nbb_unformatted_code) {\n",
       "                             nbb_cells[i].set_text(nbb_formatted_code);\n",
       "                        }\n",
       "                        break;\n",
       "                    }\n",
       "                }\n",
       "            }, 500);\n",
       "            "
      ],
      "text/plain": [
       "<IPython.core.display.Javascript object>"
      ]
     },
     "metadata": {},
     "output_type": "display_data"
    }
   ],
   "source": [
    "cpd1 = list(cpd1_all.values())\n",
    "cpd1 = np.nanmean(np.concatenate(cpd1, 0), axis=0)\n",
    "\n",
    "cpd2 = list(cpd2_all.values())\n",
    "cpd2 = np.nanmean(np.concatenate(cpd2, 0), axis=0)"
   ]
  },
  {
   "cell_type": "code",
   "execution_count": 10,
   "metadata": {},
   "outputs": [
    {
     "data": {
      "text/plain": [
       "Text(0.5, 1.0, 'CPD2')"
      ]
     },
     "execution_count": 10,
     "metadata": {},
     "output_type": "execute_result"
    },
    {
     "data": {
      "image/png": "[encoded data removed]",
      "text/plain": [
       "<Figure size 432x288 with 1 Axes>"
      ]
     },
     "metadata": {
      "needs_background": "light"
     },
     "output_type": "display_data"
    },
    {
     "data": {
      "application/javascript": [
       "\n",
       "            setTimeout(function() {\n",
       "                var nbb_cell_id = 10;\n",
       "                var nbb_unformatted_code = \"plt.plot(cpd2)\\nplt.legend(X.columns)\\nplt.title(\\\"CPD2\\\")\";\n",
       "                var nbb_formatted_code = \"plt.plot(cpd2)\\nplt.legend(X.columns)\\nplt.title(\\\"CPD2\\\")\";\n",
       "                var nbb_cells = Jupyter.notebook.get_cells();\n",
       "                for (var i = 0; i < nbb_cells.length; ++i) {\n",
       "                    if (nbb_cells[i].input_prompt_number == nbb_cell_id) {\n",
       "                        if (nbb_cells[i].get_text() == nbb_unformatted_code) {\n",
       "                             nbb_cells[i].set_text(nbb_formatted_code);\n",
       "                        }\n",
       "                        break;\n",
       "                    }\n",
       "                }\n",
       "            }, 500);\n",
       "            "
      ],
      "text/plain": [
       "<IPython.core.display.Javascript object>"
      ]
     },
     "metadata": {},
     "output_type": "display_data"
    }
   ],
   "source": [
    "plt.plot(cpd2)\n",
    "plt.legend(X.columns)\n",
    "plt.title(\"CPD2\")"
   ]
  },
  {
   "cell_type": "markdown",
   "metadata": {},
   "source": [
    "#### PCA"
   ]
  },
  {
   "cell_type": "code",
   "execution_count": 97,
   "metadata": {},
   "outputs": [
    {
     "data": {
      "text/plain": [
       "PCA(copy=True, iterated_power='auto', n_components=12, random_state=None,\n",
       "    svd_solver='auto', tol=0.0, whiten=False)"
      ]
     },
     "execution_count": 97,
     "metadata": {},
     "output_type": "execute_result"
    },
    {
     "data": {
      "application/javascript": [
       "\n",
       "            setTimeout(function() {\n",
       "                var nbb_cell_id = 97;\n",
       "                var nbb_unformatted_code = \"all_type_avgs = []\\nfor i in pkl:\\n    file_name, indexes = i[\\\"file\\\"], i[\\\"trial_selected\\\"]\\n    indexes = indexes[0].astype(int) - 1  # matlab index to python index\\n    X_choice = (\\n        df[\\n            df.file.apply(lambda x: \\\"_\\\".join(x.split(\\\"_\\\")[:2]))\\n            == \\\"_\\\".join(file_name.split(\\\"_\\\")[:2])\\n        ]\\n        .iloc[indexes, :][[\\\"rwd_fed\\\", \\\"c_cue\\\"]]\\n        .rename(columns={\\\"rwd_fed\\\": \\\"reward\\\", \\\"c_cue\\\": \\\"choice\\\"})\\n        .replace({-1: 0})\\n    )\\n    \\\"\\\"\\\"masks\\u4e3a\\u56db\\u79cdtype\\u7684bool mask\\\"\\\"\\\"\\n    masks = (\\n        X_choice.reset_index()\\n        .groupby([\\\"reward\\\", \\\"choice\\\"])\\n        .apply(lambda x: list(x.index))\\n        .values\\n    )\\n    \\\"\\\"\\\"\\u6839\\u636e\\u6bcf\\u4e00\\u79cdtype\\uff0c\\u5728trial\\u7684\\u7ef4\\u5ea6\\u4e0a\\uff08\\u7ef4\\u5ea60\\uff09\\u4e0aaverage\\uff0c\\u540c\\u65f6concatenate\\\"\\\"\\\"\\n    type_avgs = np.concatenate(\\n        [np.mean(i[\\\"Fd2\\\"][m, ::], 0, keepdims=True) for m in masks], 0\\n    )  # n_type * n_timepoints * n_neurons\\n    all_type_avgs.append(type_avgs)\\n\\ncombine_neuron_avgs = np.concatenate(\\n    all_type_avgs, 2\\n)  # n_type * n_timepoints * all n_neurons\\ncombine_neuron_avgs = combine_neuron_avgs - np.mean(\\n    combine_neuron_avgs, 0\\n)  # n_type * n_timepoints * all n_neurons\\ncombine_neuron_avgs = combine_neuron_avgs.swapaxes(\\n    2, 1\\n)  # n_type * all n_neurons * n_timepoints\\nX = np.hstack(\\n    [caa for caa in combine_neuron_avgs]\\n)  # [all n_neurons, n_timepoints * n_type]\\n\\npca = PCA(n_components=12)\\npca.fit(X.T)\";\n",
       "                var nbb_formatted_code = \"all_type_avgs = []\\nfor i in pkl:\\n    file_name, indexes = i[\\\"file\\\"], i[\\\"trial_selected\\\"]\\n    indexes = indexes[0].astype(int) - 1  # matlab index to python index\\n    X_choice = (\\n        df[\\n            df.file.apply(lambda x: \\\"_\\\".join(x.split(\\\"_\\\")[:2]))\\n            == \\\"_\\\".join(file_name.split(\\\"_\\\")[:2])\\n        ]\\n        .iloc[indexes, :][[\\\"rwd_fed\\\", \\\"c_cue\\\"]]\\n        .rename(columns={\\\"rwd_fed\\\": \\\"reward\\\", \\\"c_cue\\\": \\\"choice\\\"})\\n        .replace({-1: 0})\\n    )\\n    \\\"\\\"\\\"masks\\u4e3a\\u56db\\u79cdtype\\u7684bool mask\\\"\\\"\\\"\\n    masks = (\\n        X_choice.reset_index()\\n        .groupby([\\\"reward\\\", \\\"choice\\\"])\\n        .apply(lambda x: list(x.index))\\n        .values\\n    )\\n    \\\"\\\"\\\"\\u6839\\u636e\\u6bcf\\u4e00\\u79cdtype\\uff0c\\u5728trial\\u7684\\u7ef4\\u5ea6\\u4e0a\\uff08\\u7ef4\\u5ea60\\uff09\\u4e0aaverage\\uff0c\\u540c\\u65f6concatenate\\\"\\\"\\\"\\n    type_avgs = np.concatenate(\\n        [np.mean(i[\\\"Fd2\\\"][m, ::], 0, keepdims=True) for m in masks], 0\\n    )  # n_type * n_timepoints * n_neurons\\n    all_type_avgs.append(type_avgs)\\n\\ncombine_neuron_avgs = np.concatenate(\\n    all_type_avgs, 2\\n)  # n_type * n_timepoints * all n_neurons\\ncombine_neuron_avgs = combine_neuron_avgs - np.mean(\\n    combine_neuron_avgs, 0\\n)  # n_type * n_timepoints * all n_neurons\\ncombine_neuron_avgs = combine_neuron_avgs.swapaxes(\\n    2, 1\\n)  # n_type * all n_neurons * n_timepoints\\nX = np.hstack(\\n    [caa for caa in combine_neuron_avgs]\\n)  # [all n_neurons, n_timepoints * n_type]\\n\\npca = PCA(n_components=12)\\npca.fit(X.T)\";\n",
       "                var nbb_cells = Jupyter.notebook.get_cells();\n",
       "                for (var i = 0; i < nbb_cells.length; ++i) {\n",
       "                    if (nbb_cells[i].input_prompt_number == nbb_cell_id) {\n",
       "                        if (nbb_cells[i].get_text() == nbb_unformatted_code) {\n",
       "                             nbb_cells[i].set_text(nbb_formatted_code);\n",
       "                        }\n",
       "                        break;\n",
       "                    }\n",
       "                }\n",
       "            }, 500);\n",
       "            "
      ],
      "text/plain": [
       "<IPython.core.display.Javascript object>"
      ]
     },
     "metadata": {},
     "output_type": "display_data"
    }
   ],
   "source": [
    "all_type_avgs = []\n",
    "for i in pkl:\n",
    "    file_name, indexes = i[\"file\"], i[\"trial_selected\"]\n",
    "    indexes = indexes[0].astype(int) - 1  # matlab index to python index\n",
    "    X_choice = (\n",
    "        df[\n",
    "            df.file.apply(lambda x: \"_\".join(x.split(\"_\")[:2]))\n",
    "            == \"_\".join(file_name.split(\"_\")[:2])\n",
    "        ]\n",
    "        .iloc[indexes, :][[\"rwd_fed\", \"c_cue\"]]\n",
    "        .rename(columns={\"rwd_fed\": \"reward\", \"c_cue\": \"choice\"})\n",
    "        .replace({-1: 0})\n",
    "    )\n",
    "    \"\"\"masks为四种type的bool mask\"\"\"\n",
    "    masks = (\n",
    "        X_choice.reset_index()\n",
    "        .groupby([\"reward\", \"choice\"])\n",
    "        .apply(lambda x: list(x.index))\n",
    "        .values\n",
    "    )\n",
    "    \"\"\"根据每一种type，在trial的维度上（维度0）上average，同时concatenate\"\"\"\n",
    "    type_avgs = np.concatenate(\n",
    "        [np.mean(i[\"Fd2\"][m, ::], 0, keepdims=True) for m in masks], 0\n",
    "    )  # n_type * n_timepoints * n_neurons\n",
    "    all_type_avgs.append(type_avgs)\n",
    "\n",
    "combine_neuron_avgs = np.concatenate(\n",
    "    all_type_avgs, 2\n",
    ")  # n_type * n_timepoints * all n_neurons\n",
    "combine_neuron_avgs = combine_neuron_avgs - np.mean(\n",
    "    combine_neuron_avgs, 0\n",
    ")  # n_type * n_timepoints * all n_neurons\n",
    "combine_neuron_avgs = combine_neuron_avgs.swapaxes(\n",
    "    2, 1\n",
    ")  # n_type * all n_neurons * n_timepoints\n",
    "X = np.hstack(\n",
    "    [caa for caa in combine_neuron_avgs]\n",
    ")  # [all n_neurons, n_timepoints * n_type]\n",
    "\n",
    "pca = PCA(n_components=12)\n",
    "pca.fit(X.T)"
   ]
  },
  {
   "cell_type": "code",
   "execution_count": 104,
   "metadata": {
    "scrolled": true
   },
   "outputs": [
    {
     "name": "stderr",
     "output_type": "stream",
     "text": [
      "/home/tyang/anaconda3/lib/python3.6/site-packages/matplotlib/text.py:1150: FutureWarning: elementwise comparison failed; returning scalar instead, but in the future will perform elementwise comparison\n",
      "  if s != self._text:\n"
     ]
    },
    {
     "data": {
      "text/plain": [
       "<matplotlib.legend.Legend at 0x7f06e9c55710>"
      ]
     },
     "execution_count": 104,
     "metadata": {},
     "output_type": "execute_result"
    },
    {
     "data": {
      "image/png": "[encoded data removed]",
      "text/plain": [
       "<Figure size 432x288 with 1 Axes>"
      ]
     },
     "metadata": {
      "needs_background": "light"
     },
     "output_type": "display_data"
    },
    {
     "data": {
      "application/javascript": [
       "\n",
       "            setTimeout(function() {\n",
       "                var nbb_cell_id = 104;\n",
       "                var nbb_unformatted_code = \"colors = [\\\"b\\\", \\\"r\\\", \\\"c\\\", \\\"orange\\\"]\\nfor i, caa in enumerate(combine_neuron_avgs):\\n    # 3D plot\\n    traj_x = caa.T @ pca.components_[0, :]\\n    traj_y = caa.T @ pca.components_[1, :]\\n    plt.plot(traj_x, traj_y, color=colors[i])\\n    for j, sn, m in zip(range(3), [0, 10, 25], [\\\"$S$\\\", \\\"$O$\\\", \\\"$E$\\\"]):\\n        plt.scatter(traj_x[sn], traj_y[sn], color=colors[i], marker=m, s=80)\\nplt.legend(\\n    (\\n        X_choice.reset_index()\\n        .groupby([\\\"reward\\\", \\\"choice\\\"])\\n        .apply(lambda x: list(x.index))\\n        .reset_index()\\n    )[[\\\"reward\\\", \\\"choice\\\"]].values\\n)\";\n",
       "                var nbb_formatted_code = \"colors = [\\\"b\\\", \\\"r\\\", \\\"c\\\", \\\"orange\\\"]\\nfor i, caa in enumerate(combine_neuron_avgs):\\n    # 3D plot\\n    traj_x = caa.T @ pca.components_[0, :]\\n    traj_y = caa.T @ pca.components_[1, :]\\n    plt.plot(traj_x, traj_y, color=colors[i])\\n    for j, sn, m in zip(range(3), [0, 10, 25], [\\\"$S$\\\", \\\"$O$\\\", \\\"$E$\\\"]):\\n        plt.scatter(traj_x[sn], traj_y[sn], color=colors[i], marker=m, s=80)\\nplt.legend(\\n    (\\n        X_choice.reset_index()\\n        .groupby([\\\"reward\\\", \\\"choice\\\"])\\n        .apply(lambda x: list(x.index))\\n        .reset_index()\\n    )[[\\\"reward\\\", \\\"choice\\\"]].values\\n)\";\n",
       "                var nbb_cells = Jupyter.notebook.get_cells();\n",
       "                for (var i = 0; i < nbb_cells.length; ++i) {\n",
       "                    if (nbb_cells[i].input_prompt_number == nbb_cell_id) {\n",
       "                        if (nbb_cells[i].get_text() == nbb_unformatted_code) {\n",
       "                             nbb_cells[i].set_text(nbb_formatted_code);\n",
       "                        }\n",
       "                        break;\n",
       "                    }\n",
       "                }\n",
       "            }, 500);\n",
       "            "
      ],
      "text/plain": [
       "<IPython.core.display.Javascript object>"
      ]
     },
     "metadata": {},
     "output_type": "display_data"
    }
   ],
   "source": [
    "colors = [\"b\", \"r\", \"c\", \"orange\"]\n",
    "for i, caa in enumerate(combine_neuron_avgs):\n",
    "    # 3D plot\n",
    "    traj_x = caa.T @ pca.components_[0, :]\n",
    "    traj_y = caa.T @ pca.components_[1, :]\n",
    "    plt.plot(traj_x, traj_y, color=colors[i])\n",
    "    for j, sn, m in zip(range(3), [0, 10, 25], [\"$S$\", \"$O$\", \"$E$\"]):\n",
    "        plt.scatter(traj_x[sn], traj_y[sn], color=colors[i], marker=m, s=80)\n",
    "plt.legend(\n",
    "    (\n",
    "        X_choice.reset_index()\n",
    "        .groupby([\"reward\", \"choice\"])\n",
    "        .apply(lambda x: list(x.index))\n",
    "        .reset_index()\n",
    "    )[[\"reward\", \"choice\"]].values\n",
    ")"
   ]
  }
 ],
 "metadata": {
  "kernelspec": {
   "display_name": "Python 3",
   "language": "python",
   "name": "python3"
  },
  "language_info": {
   "codemirror_mode": {
    "name": "ipython",
    "version": 3
   },
   "file_extension": ".py",
   "mimetype": "text/x-python",
   "name": "python",
   "nbconvert_exporter": "python",
   "pygments_lexer": "ipython3",
   "version": "3.6.7"
  },
  "toc": {
   "base_numbering": 1,
   "nav_menu": {},
   "number_sections": true,
   "sideBar": true,
   "skip_h1_title": false,
   "title_cell": "Table of Contents",
   "title_sidebar": "Contents",
   "toc_cell": false,
   "toc_position": {},
   "toc_section_display": true,
   "toc_window_display": false
  },
  "varInspector": {
   "cols": {
    "lenName": 16,
    "lenType": 16,
    "lenVar": 40
   },
   "kernels_config": {
    "python": {
     "delete_cmd_postfix": "",
     "delete_cmd_prefix": "del ",
     "library": "var_list.py",
     "varRefreshCmd": "print(var_dic_list())"
    },
    "r": {
     "delete_cmd_postfix": ") ",
     "delete_cmd_prefix": "rm(",
     "library": "var_list.r",
     "varRefreshCmd": "cat(var_dic_list()) "
    }
   },
   "types_to_exclude": [
    "module",
    "function",
    "builtin_function_or_method",
    "instance",
    "_Feature"
   ],
   "window_display": false
  }
 },
 "nbformat": 4,
 "nbformat_minor": 2
}
